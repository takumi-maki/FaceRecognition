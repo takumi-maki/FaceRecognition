{
 "cells": [
  {
   "cell_type": "code",
   "execution_count": 92,
   "metadata": {},
   "outputs": [
    {
     "ename": "AttributeError",
     "evalue": "'NoneType' object has no attribute 'emotion'",
     "output_type": "error",
     "traceback": [
      "\u001b[0;31m---------------------------------------------------------------------\u001b[0m",
      "\u001b[0;31mAttributeError\u001b[0m                      Traceback (most recent call last)",
      "\u001b[0;32m<ipython-input-92-3aab39b3528f>\u001b[0m in \u001b[0;36m<module>\u001b[0;34m\u001b[0m\n\u001b[1;32m     26\u001b[0m \u001b[0;31m#print(verified)\u001b[0m\u001b[0;34m\u001b[0m\u001b[0;34m\u001b[0m\u001b[0;34m\u001b[0m\u001b[0m\n\u001b[1;32m     27\u001b[0m \u001b[0;34m\u001b[0m\u001b[0m\n\u001b[0;32m---> 28\u001b[0;31m \u001b[0mprint\u001b[0m\u001b[0;34m(\u001b[0m\u001b[0mdetected_faces\u001b[0m\u001b[0;34m[\u001b[0m\u001b[0;36m0\u001b[0m\u001b[0;34m]\u001b[0m\u001b[0;34m.\u001b[0m\u001b[0mface_attributes\u001b[0m\u001b[0;34m.\u001b[0m\u001b[0memotion\u001b[0m\u001b[0;34m)\u001b[0m\u001b[0;34m\u001b[0m\u001b[0;34m\u001b[0m\u001b[0m\n\u001b[0m\u001b[1;32m     29\u001b[0m \u001b[0;31m#print(detected_faces_2[0].face_id)\u001b[0m\u001b[0;34m\u001b[0m\u001b[0;34m\u001b[0m\u001b[0;34m\u001b[0m\u001b[0m\n\u001b[1;32m     30\u001b[0m \u001b[0;31m#print(detected_faces_2[0].face_attributes)\u001b[0m\u001b[0;34m\u001b[0m\u001b[0;34m\u001b[0m\u001b[0;34m\u001b[0m\u001b[0m\n",
      "\u001b[0;31mAttributeError\u001b[0m: 'NoneType' object has no attribute 'emotion'"
     ]
    }
   ],
   "source": [
    "from azure.cognitiveservices.vision.face import FaceClient\n",
    "from msrest.authentication import CognitiveServicesCredentials\n",
    "\n",
    "KEY = '4d07a0f358524fe4a14954a79fc8670f'\n",
    "ENDPOINT = 'https://face-recognition-face.cognitiveservices.azure.com/'\n",
    "\n",
    "face_client = FaceClient(ENDPOINT, CognitiveServicesCredentials(KEY))\n",
    "\n",
    "#audrey の画像アドレス\n",
    "url = 'https://pbs.twimg.com/profile_images/939030334271758337/CAn1ioN3_400x400.jpg'\n",
    "\n",
    "detected_faces = face_client.face.detect_with_url(\n",
    "    url = url,\n",
    "    return_face_attributes = ['age' , 'gender', 'smile', 'glasses', 'emotion']\n",
    ")\n",
    "\n",
    "with open('img/c51e5b17-3ec0-4167-b0c5-a5baeaac3c54.jpg', 'rb') as image:\n",
    "    detected_faces_2 = face_client.face.detect_with_stream(\n",
    "        image,\n",
    "        return_face_attributes = ['age', 'gender', 'smile', 'glasses', 'emotion']\n",
    ")\n",
    "face_id_1 = detected_faces[0].face_id\n",
    "face_id_2 = detected_faces_2[0].face_id\n",
    "\n",
    "verified = face_client.face.verify_face_to_face(face_id_1, face_id_2)\n",
    "#print(verified)\n",
    "\n",
    "print(detected_faces[0].face_attributes.emotion)\n",
    "#print(detected_faces_2[0].face_id)\n",
    "#print(detected_faces_2[0].face_attributes)\n",
    "\n",
    "\n",
    "person_group_id = 'moviestars'\n",
    "\n",
    "face_client.person_group.update(\n",
    "    person_group_id,\n",
    "    name = 'Person Group for LINE Bot'\n",
    ")\n",
    "\n",
    "moviestars = face_client.person_group.get(person_group_id)\n",
    "#print(moviestars)\n",
    "\n",
    "audrey_name = 'Audrey Hepburn'\n",
    "\n",
    "audrey = face_client.person_group_person.create(\n",
    "    person_group_id = moviestars.person_group_id,\n",
    "    name = audrey_name\n",
    ")\n",
    "#print(audrey)\n",
    "\n",
    "audrey_face_1 = face_client.person_group_person.add_face_from_url(\n",
    "    person_group_id = moviestars.person_group_id,\n",
    "    person_id = audrey.person_id,\n",
    "    url = url\n",
    ")\n",
    "#print(audrey_face_1)\n",
    "\n",
    "with open('img/audrey_hepburn.jpg', 'rb') as image:\n",
    "    audrey_face_2 = face_client.person_group_person.add_face_from_stream(\n",
    "        person_group_id = moviestars.person_group_id,\n",
    "        person_id = audrey.person_id,\n",
    "        image = image\n",
    ")\n",
    "\n",
    "with open('img/audrey_hepburn_2.jpg', 'rb') as image:\n",
    "    audrey_face_3 = face_client.person_group_person.add_face_from_stream(\n",
    "        person_group_id = moviestars.person_group_id,\n",
    "        person_id = audrey.person_id,\n",
    "        image = image\n",
    ")\n",
    "#print(audrey_face_2)\n",
    "#print(audrey)\n",
    "\n",
    "audrey = face_client.person_group_person.get(\n",
    "    person_group_id = moviestars.person_group_id,\n",
    "    person_id = audrey.person_id\n",
    ")\n",
    "#print(audrey)\n",
    "\n",
    "url = 'https://www.crank-in.net/img/db/1285223_650.jpg'\n",
    "\n",
    "detected_faces_3 = face_client.face.detect_with_url(url)\n",
    "#print(detected_faces_3[0])\n",
    "\n",
    "verified = face_client.face.verify_face_to_person(\n",
    "    face_id = detected_faces_3[0].face_id,\n",
    "    person_group_id = moviestars.person_group_id,\n",
    "    person_id = audrey.person_id\n",
    ")\n"
   ]
  },
  {
   "cell_type": "code",
   "execution_count": null,
   "metadata": {},
   "outputs": [],
   "source": []
  },
  {
   "cell_type": "code",
   "execution_count": 2,
   "metadata": {},
   "outputs": [
    {
     "name": "stdout",
     "output_type": "stream",
     "text": [
      "サンドイッチ:¥500\n"
     ]
    }
   ],
   "source": []
  },
  {
   "cell_type": "code",
   "execution_count": 3,
   "metadata": {},
   "outputs": [
    {
     "name": "stdout",
     "output_type": "stream",
     "text": [
      "hello\n"
     ]
    }
   ],
   "source": []
  }
 ],
 "metadata": {
  "kernelspec": {
   "display_name": "Python 3",
   "language": "python",
   "name": "python3"
  },
  "language_info": {
   "codemirror_mode": {
    "name": "ipython",
    "version": 3
   },
   "file_extension": ".py",
   "mimetype": "text/x-python",
   "name": "python",
   "nbconvert_exporter": "python",
   "pygments_lexer": "ipython3",
   "version": "3.8.5"
  }
 },
 "nbformat": 4,
 "nbformat_minor": 4
}
