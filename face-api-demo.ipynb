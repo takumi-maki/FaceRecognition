{
 "cells": [
  {
   "cell_type": "code",
   "execution_count": 74,
   "metadata": {},
   "outputs": [
    {
     "name": "stdout",
     "output_type": "stream",
     "text": [
      "{'additional_properties': {}, 'name': 'Audrey Hepburn', 'user_data': None, 'person_id': 'd5afaaf5-54de-4a71-a085-0c84cb06e401', 'persisted_face_ids': ['91f5604b-010a-4101-a1bd-765bc11801f3', 'b8d86ca3-d838-4d5b-8d09-70644b966fae', 'f1ad3c00-34c3-4470-8d54-bc93ba687144']}\n"
     ]
    }
   ],
   "source": [
    "from azure.cognitiveservices.vision.face import FaceClient\n",
    "from msrest.authentication import CognitiveServicesCredentials\n",
    "\n",
    "KEY = '4d07a0f358524fe4a14954a79fc8670f'\n",
    "ENDPOINT = 'https://face-recognition-face.cognitiveservices.azure.com/'\n",
    "\n",
    "face_client = FaceClient(ENDPOINT, CognitiveServicesCredentials(KEY))\n",
    "\n",
    "url = 'https://prt.iza.ne.jp/kiji/entertainments/images/210312/ent21031214200028-n1.jpg'\n",
    "\n",
    "detected_faces = face_client.face.detect_with_url(\n",
    "    url = url,\n",
    "    return_face_attributes = ['age' , 'gender', 'smile', 'glasses', 'emotion']\n",
    ")\n",
    "\n",
    "with open('img/c51e5b17-3ec0-4167-b0c5-a5baeaac3c54.jpg', 'rb') as image:\n",
    "    detected_faces_2 = face_client.face.detect_with_stream(\n",
    "        image,\n",
    "        return_face_attributes = ['age', 'gender', 'smile', 'glasses', 'emotion']\n",
    ")\n",
    "face_id_1 = detected_faces[0].face_id\n",
    "face_id_2 = detected_faces_2[0].face_id\n",
    "\n",
    "verified = face_client.face.verify_face_to_face(face_id_1, face_id_2)\n",
    "#print(verified)\n",
    "    \n",
    "#print(detected_faces[0].face_id)\n",
    "#print(detected_faces_2[0].face_id)\n",
    "#print(detected_faces_2[0].face_attributes)\n",
    "\n",
    "\n",
    "person_group_id = 'moviestars'\n",
    "\n",
    "face_client.person_group.update(\n",
    "    person_group_id,\n",
    "    name = 'Person Group for LINE Bot'\n",
    ")\n",
    "\n",
    "moviestars = face_client.person_group.get(person_group_id)\n",
    "#print(moviestars)\n",
    "\n",
    "audrey_name = 'Audrey Hepburn'\n",
    "\n",
    "audrey = face_client.person_group_person.create(\n",
    "    person_group_id = moviestars.person_group_id,\n",
    "    name = audrey_name\n",
    ")\n",
    "#print(audrey)\n",
    "\n",
    "audrey_face_1 = face_client.person_group_person.add_face_from_url(\n",
    "    person_group_id = moviestars.person_group_id,\n",
    "    person_id = audrey.person_id,\n",
    "    url = url\n",
    ")\n",
    "#print(audrey_face_1)\n",
    "\n",
    "with open('img/audrey_hepburn.jpg', 'rb') as image:\n",
    "    audrey_face_2 = face_client.person_group_person.add_face_from_stream(\n",
    "        person_group_id = moviestars.person_group_id,\n",
    "        person_id = audrey.person_id,\n",
    "        image = image\n",
    ")\n",
    "\n",
    "with open('img/audrey_hepburn_2.jpg', 'rb') as image:\n",
    "    audrey_face_3 = face_client.person_group_person.add_face_from_stream(\n",
    "        person_group_id = moviestars.person_group_id,\n",
    "        person_id = audrey.person_id,\n",
    "        image = image\n",
    ")\n",
    "#print(audrey_face_2)\n",
    "#print(audrey)\n",
    "\n",
    "audrey = face_client.person_group_person.get(\n",
    "    person_group_id = moviestars.person_group_id,\n",
    "    person_id = audrey.person_id\n",
    ")\n",
    "#print(audrey)\n",
    "\n",
    "url = 'https://amd-pctr.c.yimg.jp/r/iwiz-amd/20210311-00000041-dal-000-8-view.jpg'\n",
    "\n",
    "detected_faces_3 = face_client.face.detect_with_url(url)\n",
    "#print(detected_faces_3[0])\n",
    "\n",
    "verified = face_client.face.verify_face_to_person(\n",
    "    face_id = detected_faces_3[0].face_id,\n",
    "    person_group_id = moviestars.person_group_id,\n",
    "    person_id = audrey.person_id\n",
    ")\n"
   ]
  },
  {
   "cell_type": "code",
   "execution_count": null,
   "metadata": {},
   "outputs": [],
   "source": []
  },
  {
   "cell_type": "code",
   "execution_count": 2,
   "metadata": {},
   "outputs": [
    {
     "name": "stdout",
     "output_type": "stream",
     "text": [
      "サンドイッチ:¥500\n"
     ]
    }
   ],
   "source": []
  },
  {
   "cell_type": "code",
   "execution_count": 3,
   "metadata": {},
   "outputs": [
    {
     "name": "stdout",
     "output_type": "stream",
     "text": [
      "hello\n"
     ]
    }
   ],
   "source": []
  }
 ],
 "metadata": {
  "kernelspec": {
   "display_name": "Python 3",
   "language": "python",
   "name": "python3"
  },
  "language_info": {
   "codemirror_mode": {
    "name": "ipython",
    "version": 3
   },
   "file_extension": ".py",
   "mimetype": "text/x-python",
   "name": "python",
   "nbconvert_exporter": "python",
   "pygments_lexer": "ipython3",
   "version": "3.8.5"
  }
 },
 "nbformat": 4,
 "nbformat_minor": 4
}
